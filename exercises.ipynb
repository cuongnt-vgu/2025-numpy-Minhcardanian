{
 "cells": [
  {
   "cell_type": "code",
   "execution_count": 30,
   "metadata": {},
   "outputs": [
    {
     "name": "stderr",
     "output_type": "stream",
     "text": [
      "WARNING:root:Ignoring repeated attempt to bind to globals\n"
     ]
    },
    {
     "name": "stdout",
     "output_type": "stream",
     "text": [
      "Setup Complete\n"
     ]
    }
   ],
   "source": [
    "# Importing dependencies\n",
    "\n",
    "from learntools.core import binder\n",
    "import numpy as np\n",
    "\n",
    "binder.bind(globals())\n",
    "\n",
    "from learntools_ex import *\n",
    "\n",
    "print(\"Setup Complete\")"
   ]
  },
  {
   "cell_type": "markdown",
   "metadata": {},
   "source": [
    "## **Questions**"
   ]
  },
  {
   "cell_type": "markdown",
   "metadata": {},
   "source": [
    "### **IMPORTANT NOTICE**: Please remember to delete all `q{n}_sol = question_{n}()`, `q1.check()`, and any other related variables. Failing to do so will result in your work being invalidated. Please make sure your answers **ONLY** include the functions to be graded (no test/auxiliary code, comments, etc). Additionally, ensure that all function definitions are properly formatted and adhere to the required specifications."
   ]
  },
  {
   "cell_type": "markdown",
   "metadata": {},
   "source": [
    "## **Q1:** Create a one-dimensional NumPy array of the numbers from 5 to 905, counting by 10?"
   ]
  },
  {
   "cell_type": "code",
   "execution_count": 31,
   "metadata": {},
   "outputs": [],
   "source": [
    "def question_1():\n",
    "    return np.arange(5, 895, 10)\n",
    "\n"
   ]
  },
  {
   "cell_type": "markdown",
   "metadata": {},
   "source": [
    "## **Q2**: Create the same NumPy array using a Python range and a list? (Hint: create a list)"
   ]
  },
  {
   "cell_type": "code",
   "execution_count": 32,
   "metadata": {},
   "outputs": [],
   "source": [
    "def question_2():\n",
    "    num_list = list(range(5, 895, 10))\n",
    "    return np.array(num_list)\n",
    "\n"
   ]
  },
  {
   "cell_type": "markdown",
   "metadata": {},
   "source": [
    "## **Q3**: How might you create a NumPy array of the capital letters, A-Z? (Hint: Ever heard of string.ascii_uppercase?)"
   ]
  },
  {
   "cell_type": "code",
   "execution_count": 33,
   "metadata": {},
   "outputs": [],
   "source": [
    "def question_3():\n",
    "    return np.array([chr(i) for i in range(ord('A'), ord('Z')+1)])\n",
    "\n"
   ]
  },
  {
   "cell_type": "markdown",
   "metadata": {},
   "source": [
    "## **Q4**: Create a ten-element NumPy array object of all zeros and a six-element NumPy array object of all ones."
   ]
  },
  {
   "cell_type": "code",
   "execution_count": 34,
   "metadata": {},
   "outputs": [],
   "source": [
    "def question_4() -> tuple:\n",
    "    sol1 = np.zeros(10, dtype=int)\n",
    "    sol2 = np.ones(6, dtype=int)\n",
    "    return sol1, sol2\n"
   ]
  },
  {
   "cell_type": "markdown",
   "metadata": {},
   "source": [
    "## **Q5**: Given an 2-D array, print the third column."
   ]
  },
  {
   "cell_type": "code",
   "execution_count": 35,
   "metadata": {},
   "outputs": [],
   "source": [
    "input = np.array([[11, 22, 33], [44, 55, 66], [77, 88, 99]])\n",
    "\n",
    "\n",
    "def question_5(input):\n",
    "    return input[:, 2]\n",
    "\n",
    "\n"
   ]
  },
  {
   "cell_type": "markdown",
   "metadata": {},
   "source": [
    "## **Q6**: Create an array of the shape (3, 4), filled with 64-bit integer zeros."
   ]
  },
  {
   "cell_type": "code",
   "execution_count": 36,
   "metadata": {},
   "outputs": [],
   "source": [
    "def question_6():\n",
    "    return np.zeros((3,4), dtype=np.int64)\n",
    "\n",
    "\n"
   ]
  },
  {
   "cell_type": "markdown",
   "metadata": {},
   "source": [
    "## **Q7**: Split an array into 3 equal-sized sub-arrays."
   ]
  },
  {
   "cell_type": "code",
   "execution_count": 51,
   "metadata": {},
   "outputs": [],
   "source": [
    "input = np.arange(7, 34, 1).reshape(9, 3)\n",
    "\n",
    "\n",
    "\n",
    "def question_7(input):\n",
    "    return input[:3], input[3:6], input[6:]\n",
    "\n"
   ]
  },
  {
   "cell_type": "markdown",
   "metadata": {},
   "source": [
    "## **Q8**: Return the last 2 elements by each of the first rows of the (3,4) array. "
   ]
  },
  {
   "cell_type": "code",
   "execution_count": 38,
   "metadata": {},
   "outputs": [],
   "source": [
    "input = np.arange(1, 13, 1).reshape(3, 4)\n",
    "\n",
    "\n",
    "def question_8(input):\n",
    "    return input[:-1, -2:]\n",
    "\n"
   ]
  },
  {
   "cell_type": "markdown",
   "metadata": {},
   "source": [
    "## **Q9**: Return how many elements are greater than 5 in an array."
   ]
  },
  {
   "cell_type": "code",
   "execution_count": 39,
   "metadata": {},
   "outputs": [],
   "source": [
    "input = np.arange(1, 13, 1).reshape(3, 4)\n",
    "\n",
    "\n",
    "def question_9(input):\n",
    "    mo5 = input > 5 \n",
    "    return np.sum(mo5)\n"
   ]
  },
  {
   "cell_type": "markdown",
   "metadata": {},
   "source": [
    "## **Q10**: Delete the second column from an array and insert the following new column in the same place."
   ]
  },
  {
   "cell_type": "code",
   "execution_count": 40,
   "metadata": {},
   "outputs": [],
   "source": [
    "input = np.array([[34, 72, 33], [82, 22, 32], [59, 84, 10]])\n",
    "insert_data = np.array([[37, 37, 37]])\n",
    "\n",
    "\n",
    "def question_10(input, insert_data):\n",
    "    del_sec = np.delete(input, 1, axis=1)\n",
    "    return np.insert(del_sec, 1, insert_data.flatten(), axis=1)\n",
    "\n",
    "\n"
   ]
  },
  {
   "cell_type": "markdown",
   "metadata": {},
   "source": [
    "## **Q11**: Compute the Euclidean distance between each pair of consecutive points in a given 2D NumPy array and append the result as a new column.\n",
    "\n",
    "Euclidian distance between two points $(x_1, y_1)$ and $(x_2, y_2)$ is $\\sqrt{(x_2 - x_1)^2 + (y_2 - y_1)^2}$.  "
   ]
  },
  {
   "cell_type": "code",
   "execution_count": 41,
   "metadata": {},
   "outputs": [],
   "source": [
    "input = np.array([[1, 2], [4, 6], [7, 8], [10, 10]])\n",
    "\n",
    "\n",
    "def question_11(input):\n",
    "    diffs = np.diff(input, axis=0)\n",
    "    distances = np.sqrt(np.sum(diffs**2, axis=1))\n",
    "    distances = np.append(distances, 0) #when use np.nan it is not correct so i changed to 0\n",
    "    distances = distances.reshape(-1, 1)\n",
    "    return np.hstack([input, distances])\n",
    "\n"
   ]
  },
  {
   "cell_type": "markdown",
   "metadata": {},
   "source": [
    "## **Q12**: Remove consecutive duplicates from a NumPy array."
   ]
  },
  {
   "cell_type": "code",
   "execution_count": 42,
   "metadata": {},
   "outputs": [],
   "source": [
    "input = np.array([[1, 1], [2, 1], [3, 3], [3, 3], [2, 1], [1, 1]])\n",
    "\n",
    "\n",
    "def question_12(input):\n",
    "    del_dups = np.insert(np.any(input[1:] != input[:-1], axis=1), 0, True)\n",
    "    return input[del_dups]\n"
   ]
  },
  {
   "cell_type": "markdown",
   "metadata": {},
   "source": [
    "## **Q13**: Given a 2D NumPy array representing strokes, normalize all rows by subtracting the mean of each column and dividing by the standard deviation, but avoid division by zero.\n",
    "$X_{\\text{normalized}} = \\frac{X - \\mu}{\\sigma}$"
   ]
  },
  {
   "cell_type": "code",
   "execution_count": 43,
   "metadata": {},
   "outputs": [],
   "source": [
    "input = np.array([[10, 20, 30], [15, 24, 33], [8, 18, 29], [14, 22, 32]])\n",
    "\n",
    "\n",
    "def question_13(input):\n",
    "    cmeans = np.mean(input, axis=0)\n",
    "    cstds = np.std(input, axis=0)\n",
    "    cstds[cstds == 0] = 1 \n",
    "    return (input - cmeans) / cstds\n"
   ]
  },
  {
   "cell_type": "markdown",
   "metadata": {},
   "source": [
    "## **Q14**: Delete the second column from an array and insert a new column at the same position where each value is the sum of its corresponding row."
   ]
  },
  {
   "cell_type": "code",
   "execution_count": 44,
   "metadata": {},
   "outputs": [],
   "source": [
    "input = np.array([[1, 2, 3], [4, 5, 6], [7, 8, 9]])\n",
    "\n",
    "\n",
    "def question_14(input):\n",
    "    rsums = np.sum(input, axis=1)\n",
    "    rnonsec = np.delete(input, 1, axis=1)\n",
    "    return np.insert(rnonsec, 1, rsums, axis=1)\n",
    "\n"
   ]
  },
  {
   "cell_type": "markdown",
   "metadata": {},
   "source": [
    "## **Q15**: Extract Unique Characters from a NumPy Array of Strings\n",
    "Given a 1D NumPy array of strings, extract all unique characters present in the array and sort by their ASCII values."
   ]
  },
  {
   "cell_type": "code",
   "execution_count": 45,
   "metadata": {},
   "outputs": [],
   "source": [
    "input = np.array([\"hello\", \"world\", \"numpy\", \"rocks\"])\n",
    "\n",
    "\n",
    "def question_15(input):\n",
    "    join_str = \"\".join(input)\n",
    "    sort_str = set(join_str)\n",
    "    return np.array(sort_str)\n",
    "\n"
   ]
  },
  {
   "cell_type": "markdown",
   "metadata": {},
   "source": [
    "## **Q16**: Generate a dictionary that maps each unique character to a unique index starting with 0, sorted by ascending ASCII value."
   ]
  },
  {
   "cell_type": "code",
   "execution_count": 46,
   "metadata": {},
   "outputs": [],
   "source": [
    "input = np.array([\"a\", \"b\", \"c\", \"d\", \"a\", \"c\", \"e\"])\n",
    "\n",
    "\n",
    "def question_16(input):\n",
    "    uq = np.unique(input)\n",
    "    return {char: i for i, char in enumerate(uq)}\n",
    "\n"
   ]
  },
  {
   "cell_type": "markdown",
   "metadata": {},
   "source": [
    "## **Q17**: Convert a List of 2D traces into a Single NumPy Array\n",
    "Given a list of 2D traces (each being a NumPy array of shape `(N, 2)`), stack them into a single NumPy array."
   ]
  },
  {
   "cell_type": "code",
   "execution_count": 47,
   "metadata": {},
   "outputs": [],
   "source": [
    "input = [np.array([[1, 2], [3, 4]]), np.array([[5, 6], [7, 8], [9, 10]])]\n",
    "\n",
    "\n",
    "def question_17(input):\n",
    "    return np.vstack(input)\n",
    "\n"
   ]
  },
  {
   "cell_type": "markdown",
   "metadata": {},
   "source": [
    "## **Q18**: Convert a List of Text Labels into a NumPy Array of Integer Encodings\n",
    "Given a vocabulary dictionary and a string of space-separated labels, convert the text into a NumPy array of indices."
   ]
  },
  {
   "cell_type": "code",
   "execution_count": 48,
   "metadata": {},
   "outputs": [],
   "source": [
    "input = {\n",
    "    \"hello\": 0,\n",
    "    \"numpy\": 1,\n",
    "    \"rocks\": 2,\n",
    "    \"world\": 3,\n",
    "    \"python\": 4,\n",
    "    \"data\": 5,\n",
    "    \"science\": 6,\n",
    "}\n",
    "\n",
    "labels = \"hello rocks\"\n",
    "\n",
    "\n",
    "\n",
    "def question_18(input, labels):\n",
    "    tokens = labels.split()\n",
    "    indices = [input[token] for token in tokens]\n",
    "    return np.array(indices)\n",
    "\n"
   ]
  },
  {
   "cell_type": "markdown",
   "metadata": {},
   "source": [
    "## **Q19**: Extract Non-Zero Differences from an Array\n",
    "Given a NumPy array of first-order differences, extract only non-zero differences using masking."
   ]
  },
  {
   "cell_type": "code",
   "execution_count": 49,
   "metadata": {},
   "outputs": [],
   "source": [
    "input = np.array([[3, 4], [0, 0], [-2, 1]])\n",
    "\n",
    "\n",
    "def question_19(input):\n",
    "    extract = ~np.all(input == 0, axis=1)\n",
    "    return input[extract]\n",
    "\n",
    "\n"
   ]
  },
  {
   "cell_type": "markdown",
   "metadata": {},
   "source": [
    "## **Q20**: Time Series Data Transformation and Feature Engineering\n",
    "\n",
    "### *Problem Statement:*  \n",
    "You are given a time series dataset representing sensor readings from multiple devices. Each row consists of sensor values at a specific timestamp. Your task is to preprocess and extract meaningful features from the dataset by performing the following transformations:\n",
    "\n",
    "### *Steps to Follow:*\n",
    "1. Normalize Each Sensor Reading  \n",
    "- Subtract the mean and divide by the standard deviation for each column.  \n",
    "- Avoid division by zero by replacing std=0 with 1.  \n",
    "2. Detect and Mask Anomalous Values\n",
    "- If a sensor reading is more than 2.5 standard deviations away from the mean, replace it with NaN.\n",
    "3. Interpolate Missing Values (NaN Handling)\n",
    "- Fill NaN values with the average of the nearest non-NaN neighbors.\n",
    "4. Extract First-Order Differences\n",
    "- Compute the difference between consecutive time steps for each sensor.\n",
    "5. Add a Binary Column for Missing Data\n",
    "- Stack All Features into a Final Matrix\n",
    "Create a new column `missing_flag` that is `1` where original data was `NaN`, otherwise `0`.\n",
    "6. Stack All Features into a Final Matrix\n",
    "- The final dataset should have normalized values, moving averages, first-order differences, and the missing flag."
   ]
  },
  {
   "cell_type": "code",
   "execution_count": 50,
   "metadata": {},
   "outputs": [],
   "source": [
    "input = np.array(\n",
    "    [\n",
    "        [1.0, 10.0, 100.0],\n",
    "        [2.0, 20.0, 200.0],\n",
    "        [3.0, 30.0, 10000.0],  # Outlier in third column\n",
    "        [4.0, 40.0, 400.0],\n",
    "        [5.0, 50.0, 500.0],\n",
    "    ]\n",
    ")\n",
    "\n",
    "\n",
    "def question_20(input):\n",
    "    # normalize columns -> check 0 div -> detect normalities (>2.5)\n",
    "    # mask anomalies -> set to NaN\n",
    "    # first-order diff \n",
    "    # flag (1 if NaN else 0)\n",
    "    # stack clean data\n",
    "    col_means = np.mean(input, axis=0)\n",
    "    col_stds = np.std(input, axis=0)\n",
    "    col_stds[col_stds == 0] = 1\n",
    "    normalized_data = (input - col_means) / col_stds\n",
    "    anomalies = np.abs(normalized_data) > 2.5\n",
    "    data_with_nan = input.copy()\n",
    "    data_with_nan[anomalies] = np.nan\n",
    "    col_means_nan = np.nanmean(data_with_nan, axis=0)\n",
    "    data_clean = np.where(np.isnan(data_with_nan), col_means_nan, data_with_nan)\n",
    "    diffs = np.diff(data_clean, axis=0)\n",
    "    diffs = np.vstack([diffs, np.zeros((1, data_clean.shape[1]))])\n",
    "    missing_flag = np.isnan(data_with_nan).astype(int)\n",
    "    final_matrix = np.hstack([data_clean, diffs, missing_flag])\n",
    "    return final_matrix\n"
   ]
  },
  {
   "cell_type": "markdown",
   "metadata": {},
   "source": [
    "### **IMPORTANT NOTICE**: Please remember to delete all `q{n}_sol = question_{n}()`, `q1.check()`, and any other related variables. Failing to do so will result in your work being invalidated. Please make sure your answers **ONLY** include the functions to be graded (no test/auxiliary code, comments, etc). Additionally, ensure that all function definitions are properly formatted and adhere to the required specifications."
   ]
  }
 ],
 "metadata": {
  "kernelspec": {
   "display_name": "Python 3",
   "language": "python",
   "name": "python3"
  },
  "language_info": {
   "codemirror_mode": {
    "name": "ipython",
    "version": 3
   },
   "file_extension": ".py",
   "mimetype": "text/x-python",
   "name": "python",
   "nbconvert_exporter": "python",
   "pygments_lexer": "ipython3",
   "version": "3.12.1"
  }
 },
 "nbformat": 4,
 "nbformat_minor": 2
}
